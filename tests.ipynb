{
 "cells": [
  {
   "cell_type": "code",
   "execution_count": 1,
   "id": "3bab23ea",
   "metadata": {},
   "outputs": [
    {
     "data": {
      "text/plain": [
       "True"
      ]
     },
     "execution_count": 1,
     "metadata": {},
     "output_type": "execute_result"
    }
   ],
   "source": [
    "import dotenv\n",
    "dotenv.load_dotenv()\n"
   ]
  },
  {
   "cell_type": "code",
   "execution_count": null,
   "id": "4fa4df74",
   "metadata": {},
   "outputs": [],
   "source": []
  },
  {
   "cell_type": "code",
   "execution_count": 2,
   "id": "85eaffeb",
   "metadata": {},
   "outputs": [
    {
     "name": "stdout",
     "output_type": "stream",
     "text": [
      "ANALYZE_PROMPT Enter\n",
      "REPO Enter\n",
      "FILES Enter\n"
     ]
    },
    {
     "name": "stderr",
     "output_type": "stream",
     "text": [
      "package.json (FileState.PLANNED): 100%|██████████| 19/19 [06:36<00:00, 20.84s/it]        \n"
     ]
    },
    {
     "name": "stdout",
     "output_type": "stream",
     "text": [
      "INSTALL_DEP Enter\n",
      "Npm install failed with errors:\n",
      " Error installing dependencies: \n",
      "STDOUT:\n",
      "\n",
      " STDERR:\n",
      "npm error code EINVALIDPACKAGENAME\n",
      "npm error Invalid package name \"shadcn/ui\" of package \"shadcn/ui@latest\": name can only contain URL-friendly characters.\n",
      "npm error A complete log of this run can be found in: /Users/bigfatfrodo/.npm/_logs/2025-06-18T08_58_13_475Z-debug-0.log\n",
      "\n",
      "\n",
      "FILES Enter\n"
     ]
    },
    {
     "name": "stderr",
     "output_type": "stream",
     "text": [
      "package.json (FileState.NEEDS_SYNC): 100%|██████████| 3/3 [00:00<00:00, 1133.80it/s]       "
     ]
    },
    {
     "name": "stdout",
     "output_type": "stream",
     "text": [
      "INSTALL_DEP Enter\n"
     ]
    },
    {
     "name": "stderr",
     "output_type": "stream",
     "text": [
      "\n"
     ]
    },
    {
     "name": "stdout",
     "output_type": "stream",
     "text": [
      "npm install completed successfully.\n",
      "BUILD Enter\n",
      "Build failed with errors:\n",
      " Error building project: \n",
      "STDOUT:\n",
      "\n",
      "> neon-chat@0.1.0 build\n",
      "> vite build\n",
      "\n",
      "\u001b[36mvite v5.4.19 \u001b[32mbuilding for production...\u001b[36m\u001b[39m\n",
      "\u001b[32m✓\u001b[39m 0 modules transformed.\n",
      "\n",
      " STDERR:\n",
      "\u001b[31mx\u001b[39m Build failed in 6ms\n",
      "\u001b[31merror during build:\n",
      "\u001b[31mCould not resolve entry module \"index.html\".\u001b[31m\n",
      "    at getRollupError (file:///Users/bigfatfrodo/code/promptstrap/agent_output/neon-chat/node_modules/rollup/dist/es/shared/parseAst.js:401:41)\n",
      "    at error (file:///Users/bigfatfrodo/code/promptstrap/agent_output/neon-chat/node_modules/rollup/dist/es/shared/parseAst.js:397:42)\n",
      "    at ModuleLoader.loadEntryModule (file:///Users/bigfatfrodo/code/promptstrap/agent_output/neon-chat/node_modules/rollup/dist/es/shared/node-entry.js:21429:20)\n",
      "    at async Promise.all (index 0)\u001b[39m\n",
      "\n",
      "\n",
      "FILES Enter\n"
     ]
    },
    {
     "name": "stderr",
     "output_type": "stream",
     "text": [
      "index.html (FileState.NEEDS_SYNC): 100%|██████████| 1/1 [00:00<00:00, 430.10it/s]"
     ]
    },
    {
     "name": "stdout",
     "output_type": "stream",
     "text": [
      "INSTALL_DEP Enter\n"
     ]
    },
    {
     "name": "stderr",
     "output_type": "stream",
     "text": [
      "\n"
     ]
    },
    {
     "name": "stdout",
     "output_type": "stream",
     "text": [
      "npm install completed successfully.\n",
      "BUILD Enter\n",
      "Build failed with errors:\n",
      " Error building project: \n",
      "STDOUT:\n",
      "\n",
      "> neon-chat@0.1.0 build\n",
      "> vite build\n",
      "\n",
      "\u001b[36mvite v5.4.19 \u001b[32mbuilding for production...\u001b[36m\u001b[39m\n",
      "transforming...\n",
      "\n",
      " STDERR:\n",
      "node:internal/process/promises:394\n",
      "    triggerUncaughtException(err, true /* fromPromise */);\n",
      "    ^\n",
      "\n",
      "[Failed to load PostCSS config: Failed to load PostCSS config (searchPath: /Users/bigfatfrodo/code/promptstrap/agent_output/neon-chat): [ReferenceError] module is not defined in ES module scope\n",
      "This file is being treated as an ES module because it has a '.js' file extension and '/Users/bigfatfrodo/code/promptstrap/agent_output/neon-chat/package.json' contains \"type\": \"module\". To treat it as a CommonJS script, rename it to use the '.cjs' file extension.\n",
      "ReferenceError: module is not defined in ES module scope\n",
      "This file is being treated as an ES module because it has a '.js' file extension and '/Users/bigfatfrodo/code/promptstrap/agent_output/neon-chat/package.json' contains \"type\": \"module\". To treat it as a CommonJS script, rename it to use the '.cjs' file extension.\n",
      "    at file:///Users/bigfatfrodo/code/promptstrap/agent_output/neon-chat/postcss.config.js:1:1\n",
      "    at ModuleJob.run (node:internal/modules/esm/module_job:274:25)\n",
      "    at async onImport.tracePromise.__proto__ (node:internal/modules/esm/loader:644:26)\n",
      "    at async importDefault (file:///Users/bigfatfrodo/code/promptstrap/agent_output/neon-chat/node_modules/vite/dist/node/chunks/dep-C6uTJdX2.js:33759:18)\n",
      "    at async Object.search (file:///Users/bigfatfrodo/code/promptstrap/agent_output/neon-chat/node_modules/vite/dist/node/chunks/dep-C6uTJdX2.js:25915:23)]\n",
      "\n",
      "Node.js v22.16.0\n",
      "\n",
      "\n",
      "FILES Enter\n"
     ]
    },
    {
     "name": "stderr",
     "output_type": "stream",
     "text": [
      "tailwind.config.js (FileState.NEEDS_SYNC): 100%|██████████| 2/2 [00:00<00:00, 658.60it/s]"
     ]
    },
    {
     "name": "stdout",
     "output_type": "stream",
     "text": [
      "INSTALL_DEP Enter\n"
     ]
    },
    {
     "name": "stderr",
     "output_type": "stream",
     "text": [
      "\n"
     ]
    },
    {
     "name": "stdout",
     "output_type": "stream",
     "text": [
      "npm install completed successfully.\n",
      "BUILD Enter\n",
      "Build completed successfully.\n",
      "{'behaviors': ['responsive',\n",
      "               'mobile-friendly',\n",
      "               'client-side routing',\n",
      "               'random lorem ipsum bot replies',\n",
      "               'accessible color contrast',\n",
      "               'dark neon theme'],\n",
      " 'error_message': None,\n",
      " 'files': [File(path='index.html', type=<FileType.HTML: 'html'>, prompt='Root HTML file for a Vite + React + Tailwind CSS project. Must contain a <div id=\"root\"></div> for React to mount, include the page title \"NeonChat\", set viewport meta for responsiveness, and load the application via a module script that points to /src/main.tsx. The body should have class=\"dark\" so the dark-mode styles are active by default.', state=<FileState.GENERATED: 'generated'>, content='<!DOCTYPE html>\\n<html lang=\"en\" class=\"dark\">\\n  <head>\\n    <meta charset=\"UTF-8\" />\\n    <link rel=\"icon\" type=\"image/svg+xml\" href=\"/vite.svg\" />\\n    <meta name=\"viewport\" content=\"width=device-width, initial-scale=1.0\" />\\n    <title>NeonChat</title>\\n  </head>\\n  <body class=\"min-h-screen\">\\n    <div id=\"root\"></div>\\n    <script type=\"module\" src=\"/src/main.tsx\"></script>\\n  </body>\\n</html>'),\n",
      "           File(path='postcss.config.js', type=<FileType.JS: 'js'>, prompt='PostCSS configuration for a Vite + React + Tailwind project using ESM syntax because package.json contains \"type\": \"module\".', state=<FileState.GENERATED: 'generated'>, content='export default {\\n  plugins: {\\n    tailwindcss: {},\\n    autoprefixer: {}\\n  }\\n};\\n'),\n",
      "           File(path='tailwind.config.js', type=<FileType.JS: 'js'>, prompt='TailwindCSS configuration in ESM format that enables dark mode via class strategy, scans index.html and all src/**/*.{js,ts,jsx,tsx} files, and extends the theme with the Bright Blue, Dark Teal, and Aqua Orange color palette.', state=<FileState.GENERATED: 'generated'>, content=\"import { type Config } from 'tailwindcss';\\n\\n/** @type {Config} */\\nconst config = {\\n  content: [\\n    './index.html',\\n    './src/**/*.{js,ts,jsx,tsx}'\\n  ],\\n  darkMode: 'class',\\n  theme: {\\n    extend: {\\n      colors: {\\n        brightBlue: '#1E90FF',\\n        darkTeal: '#014F86',\\n        aquaOrange: '#FF6B35'\\n      }\\n    }\\n  },\\n  plugins: []\\n};\\n\\nexport default config;\\n\")],\n",
      " 'input': 'Design a web application that allows users to interact with an llm '\n",
      "          'by inputting text prompts and receiving messages.\\n'\n",
      "          'Use a color palette based on Bright Blue, Dark Teal, Aqua Orange. '\n",
      "          'These colors should be used for the background, text, and buttons.\\n'\n",
      "          'The chat components are an input field for user prompt, a submit '\n",
      "          'button and a display area for the llm response. In the display '\n",
      "          'area,\\n'\n",
      "          'the llm response should be shown in a chat bubble aligned to the '\n",
      "          'left, and the user prompt should be shown in a chat bubble aligned '\n",
      "          'to the right.\\n'\n",
      "          'Also, the chat components should be bounded by a thin round-corner '\n",
      "          'border with a shadow effect. The button should be to the left of '\n",
      "          'the input field.\\n'\n",
      "          'The display area should be above the input field and button.\\n'\n",
      "          'The LLM responses should be mocked with random sequences from the '\n",
      "          'lorem ipsum text.\\n'\n",
      "          'The application should be mobile-friendly and responsive.\\n'\n",
      "          'The header will display a futuristic image of a city skyline at '\n",
      "          'night with neon lights.\\n'\n",
      "          'The footer will contain links to the terms of service, privacy '\n",
      "          'policy, and contact information. Also generate stubs for these '\n",
      "          'pages.\\n'\n",
      "          '.\\n'\n",
      "          'Return a JSON object with a plan on how to implement the prompt as '\n",
      "          'a web application.\\n'\n",
      "          'The plan should include:\\n'\n",
      "          '- the project and repository names\\n'\n",
      "          '- a complete and exhaustive list of all files with their paths '\n",
      "          '(including package.json), types and prompt for a generative model '\n",
      "          'to generate each file. This should be a typical file organization '\n",
      "          'for a React web application for this purpose.\\n'\n",
      "          '    - the list of files should include source files, assets files, '\n",
      "          'css files, html files, js files, tsx, jpeg, json and other files, '\n",
      "          'as needed\\n'\n",
      "          '    - if you need to add an image in a component you should include '\n",
      "          'that jpeg image file in the file list, together with its prompt\\n'\n",
      "          '    - create the file list in a bottom up order, so that when you '\n",
      "          'will generate the files later, the content of lower level files '\n",
      "          'will be available to the higher level files\\n'\n",
      "          '    - add tailwind.config.js and postcss.config.js to the files to '\n",
      "          'be generated.\\n'\n",
      "          '    - leave package.json last, so it will be generated last to '\n",
      "          'include all the dependencies\\n'\n",
      "          '- a style object with:\\n'\n",
      "          '    - a theme (e.g. light, dark, etc)\\n'\n",
      "          '    - a font (e.g. sans-serif, serif, etc)\\n'\n",
      "          \"    - a color palette (e.g. ['#ffffff', '#000000', '#ff0000'])\\n\"\n",
      "          '- a list of behaviors for the overall application (e.g. responsive, '\n",
      "          'mobile-friendly, etc)',\n",
      " 'output_folder': 'agent_output',\n",
      " 'project_description': 'A mobile-friendly React application where users chat '\n",
      "                        'with a mocked LLM. The UI follows a futuristic '\n",
      "                        'neon-night theme built with Tailwind CSS and '\n",
      "                        'shadcn/ui components.',\n",
      " 'project_name': 'NeonChat',\n",
      " 'repo_name': 'neon-chat',\n",
      " 'repo_state': <FileState.GENERATED: 'generated'>,\n",
      " 'status': <Status.SUCCESS: 'success'>,\n",
      " 'style': Style(theme='dark', font='sans-serif', colorPalette=['#1E90FF', '#014F86', '#FF6B35'])}\n"
     ]
    }
   ],
   "source": [
    "\n",
    "\n",
    "from promptstrap.state import PromptstrapState\n",
    "from promptstrap.graph import NewGraph\n",
    "from pprint import pprint\n",
    "\n",
    "\n",
    "input_dict = {\n",
    "    \"input\": (\n",
    "        \"\"\"Design a web application that allows users to interact with an llm by inputting text prompts and receiving messages.\n",
    "        Use a color palette based on Bright Blue, Dark Teal, Aqua Orange. These colors should be used for the background, text, and buttons.\n",
    "        The chat components are an input field for user prompt, a submit button and a display area for the llm response. In the display area,\n",
    "        the llm response should be shown in a chat bubble aligned to the left, and the user prompt should be shown in a chat bubble aligned to the right.\n",
    "        Also, the chat components should be bounded by a thin round-corner border with a shadow effect. The button should be to the left of the input field.\n",
    "        The display area should be above the input field and button.\n",
    "        The LLM responses should be mocked with random sequences from the lorem ipsum text.\n",
    "        The application should be mobile-friendly and responsive.\n",
    "        The header will display a futuristic image of a city skyline at night with neon lights.\n",
    "        The footer will contain links to the terms of service, privacy policy, and contact information. Also generate stubs for these pages.\n",
    "        \"\"\"\n",
    "    )\n",
    "}\n",
    "\n",
    "\n",
    "graph = NewGraph()\n",
    "result = graph.invoke(input_dict)\n",
    "\n",
    "pprint(result)"
   ]
  }
 ],
 "metadata": {
  "kernelspec": {
   "display_name": "promptstrap-_MO4BsZ7-py3.12",
   "language": "python",
   "name": "python3"
  },
  "language_info": {
   "codemirror_mode": {
    "name": "ipython",
    "version": 3
   },
   "file_extension": ".py",
   "mimetype": "text/x-python",
   "name": "python",
   "nbconvert_exporter": "python",
   "pygments_lexer": "ipython3",
   "version": "3.12.7"
  }
 },
 "nbformat": 4,
 "nbformat_minor": 5
}
