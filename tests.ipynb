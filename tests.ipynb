{
 "cells": [
  {
   "cell_type": "code",
   "execution_count": 1,
   "id": "3bab23ea",
   "metadata": {},
   "outputs": [
    {
     "data": {
      "text/plain": [
       "True"
      ]
     },
     "execution_count": 1,
     "metadata": {},
     "output_type": "execute_result"
    }
   ],
   "source": [
    "import dotenv\n",
    "dotenv.load_dotenv()\n"
   ]
  },
  {
   "cell_type": "code",
   "execution_count": 2,
   "id": "85eaffeb",
   "metadata": {},
   "outputs": [
    {
     "name": "stdout",
     "output_type": "stream",
     "text": [
      "ANALYZE_PROMPT Enter\n",
      "REPO Enter\n",
      "FILES Enter\n"
     ]
    },
    {
     "name": "stderr",
     "output_type": "stream",
     "text": [
      "package.json (FileState.PLANNED): 100%|██████████| 15/15 [01:21<00:00,  5.45s/it]        \n"
     ]
    },
    {
     "name": "stdout",
     "output_type": "stream",
     "text": [
      "INSTALL_DEP Enter\n",
      "npm install completed successfully.\n",
      "BUILD Enter\n",
      "Build completed successfully.\n",
      "{'behaviors': ['responsive', 'mobile-friendly', 'accessible', 'interactive'],\n",
      " 'error_message': None,\n",
      " 'files': [File(path='src/components/Header.jsx', type=<FileType.JSX: 'jsx'>, prompt='Create a Header component that displays a futuristic image of a city skyline at night with neon lights.', state=<FileState.GENERATED: 'generated'>, content='import React from \\'react\\';\\n\\nconst Header = () => {\\n  return (\\n    <header className=\"relative w-full h-64 bg-black\">\\n      <img \\n        src={require(\\'../assets/city_skyline.jpeg\\').default} \\n        alt=\"Futuristic city skyline at night with neon lights\" \\n        className=\"object-cover w-full h-full opacity-80\"\\n      />\\n      <div className=\"absolute inset-0 flex items-center justify-center\">\\n        <h1 className=\"text-4xl text-white font-bold\">Welcome to the LLM Interaction App</h1>\\n      </div>\\n    </header>\\n  );\\n};\\n\\nexport default Header;'),\n",
      "           File(path='src/components/Footer.jsx', type=<FileType.JSX: 'jsx'>, prompt='Create a Footer component that contains links to the terms of service, privacy policy, and contact information.', state=<FileState.GENERATED: 'generated'>, content='import React from \\'react\\';\\n\\nconst Footer = () => {\\n  return (\\n    <footer className=\"bg-dark-teal text-white py-4\">\\n      <div className=\"container mx-auto text-center\">\\n        <ul className=\"flex justify-center space-x-4\">\\n          <li>\\n            <a href=\"/terms_of_service\" className=\"hover:text-aqua-orange\">Terms of Service</a>\\n          </li>\\n          <li>\\n            <a href=\"/privacy_policy\" className=\"hover:text-aqua-orange\">Privacy Policy</a>\\n          </li>\\n          <li>\\n            <a href=\"/contact\" className=\"hover:text-aqua-orange\">Contact Information</a>\\n          </li>\\n        </ul>\\n      </div>\\n    </footer>\\n  );\\n};\\n\\nexport default Footer;'),\n",
      "           File(path='src/components/InputField.jsx', type=<FileType.JSX: 'jsx'>, prompt='Create an InputField component that allows users to input text prompts. Ensure the text color contrasts with the background color.', state=<FileState.GENERATED: 'generated'>, content='import React from \\'react\\';\\n\\nconst InputField = () => {\\n  return (\\n    <div className=\"mb-4\">\\n      <label htmlFor=\"prompt\" className=\"block text-white mb-2\">Enter your prompt:</label>\\n      <input\\n        type=\"text\"\\n        id=\"prompt\"\\n        className=\"w-full p-2 border border-gray-300 rounded bg-dark-teal text-white placeholder-gray-400\"\\n        placeholder=\"Type your prompt here...\"\\n      />\\n    </div>\\n  );\\n};\\n\\nexport default InputField;'),\n",
      "           File(path='src/components/ResponseDisplay.jsx', type=<FileType.JSX: 'jsx'>, prompt='Create a ResponseDisplay component that shows the messages received from the language model.', state=<FileState.GENERATED: 'generated'>, content='import React from \\'react\\';\\n\\nconst ResponseDisplay = ({ messages }) => {\\n  return (\\n    <div className=\"p-4 bg-dark-teal text-white rounded\">\\n      <h2 className=\"text-xl font-bold mb-2\">Responses:</h2>\\n      <div className=\"space-y-2\">\\n        {messages.length > 0 ? (\\n          messages.map((message, index) => (\\n            <div key={index} className=\"p-2 bg-aqua-orange rounded\">\\n              {message}\\n            </div>\\n          ))\\n        ) : (\\n          <p>No responses available.</p>\\n        )}\\n      </div>\\n    </div>\\n  );\\n};\\n\\nexport default ResponseDisplay;'),\n",
      "           File(path='src/App.jsx', type=<FileType.JSX: 'jsx'>, prompt='Create the main App component that integrates Header, Footer, InputField, and ResponseDisplay components.', state=<FileState.GENERATED: 'generated'>, content='import React from \\'react\\';\\nimport Header from \\'./components/Header\\';\\nimport Footer from \\'./components/Footer\\';\\nimport InputField from \\'./components/InputField\\';\\nimport ResponseDisplay from \\'./components/ResponseDisplay\\';\\n\\nconst App = () => {\\n  const [messages, setMessages] = React.useState([]);\\n\\n  const handleInput = (input) => {\\n    // Logic to handle input and update messages\\n    setMessages([...messages, input]);\\n  };\\n\\n  return (\\n    <div className=\"min-h-screen bg-dark-teal text-white flex flex-col\">\\n      <Header />\\n      <main className=\"flex-grow container mx-auto p-4\">\\n        <InputField onInput={handleInput} />\\n        <ResponseDisplay messages={messages} />\\n      </main>\\n      <Footer />\\n    </div>\\n  );\\n};\\n\\nexport default App;'),\n",
      "           File(path='src/index.js', type=<FileType.JS: 'js'>, prompt='Create the entry point for the React application.', state=<FileState.GENERATED: 'generated'>, content=\"import React from 'react';\\nimport ReactDOM from 'react-dom/client';\\nimport App from './App';\\nimport './styles/tailwind.css';\\n\\nconst root = ReactDOM.createRoot(document.getElementById('root'));\\nroot.render(\\n  <React.StrictMode>\\n    <App />\\n  </React.StrictMode>\\n);\"),\n",
      "           File(path='src/styles/tailwind.css', type=<FileType.CSS: 'css'>, prompt='Create a Tailwind CSS file for styling the application.', state=<FileState.GENERATED: 'generated'>, content='@tailwind base;\\n@tailwind components;\\n@tailwind utilities;\\n\\n@layer components {\\n  .bg-dark-teal {\\n    background-color: #004D4D;\\n  }\\n  .text-white {\\n    color: #FFFFFF;\\n  }\\n  .bg-aqua-orange {\\n    background-color: #FF7F50;\\n  }\\n}\\n\\n@layer utilities {\\n  .placeholder-gray-400::placeholder {\\n    color: rgba(255, 255, 255, 0.5);\\n  }\\n}'),\n",
      "           File(path='public/index.html', type=<FileType.HTML: 'html'>, prompt='Create the main HTML file for the application.', state=<FileState.GENERATED: 'generated'>, content='<!DOCTYPE html>\\n<html lang=\"en\">\\n<head>\\n    <meta charset=\"UTF-8\">\\n    <meta name=\"viewport\" content=\"width=device-width, initial-scale=1.0\">\\n    <title>LLM Interaction App</title>\\n    <link rel=\"stylesheet\" href=\"/styles/tailwind.css\">\\n</head>\\n<body class=\"bg-dark-teal text-white\">\\n    <div id=\"root\"></div>\\n    <script src=\"/src/index.js\" type=\"module\"></script>\\n</body>\\n</html>'),\n",
      "           File(path='src/assets/city_skyline.jpeg', type=<FileType.JPEG_WIDE: 'jpeg_landscape'>, prompt='Add a futuristic image of a city skyline at night with neon lights.', state=<FileState.GENERATED: 'generated'>, content=''),\n",
      "           File(path='src/pages/terms_of_service.md', type=<FileType.MD: 'md'>, prompt='Create a Terms of Service page.', state=<FileState.GENERATED: 'generated'>, content='# Terms of Service\\n\\n## Introduction\\nWelcome to the LLM Interaction App. These Terms of Service govern your use of our application. By accessing or using our services, you agree to comply with these terms.\\n\\n## Acceptance of Terms\\nBy using our application, you confirm that you accept these Terms of Service and that you agree to comply with them. If you do not agree to these terms, you must not use our services.\\n\\n## Changes to Terms\\nWe may revise these Terms of Service from time to time. Any changes will be effective immediately when we post the revised terms on this page. Your continued use of the application after any changes constitutes your acceptance of the new Terms of Service.\\n\\n## User Responsibilities\\nYou are responsible for your use of the application and for any content you provide. You agree not to use the application for any unlawful purpose or in a way that could damage, disable, or impair the application.\\n\\n## Limitation of Liability\\nIn no event shall the LLM Interaction App be liable for any indirect, incidental, special, consequential, or punitive damages arising from your use of the application.\\n\\n## Governing Law\\nThese Terms of Service shall be governed by and construed in accordance with the laws of your jurisdiction.\\n\\n## Contact Information\\nIf you have any questions about these Terms of Service, please contact us at support@llminteractionapp.com.'),\n",
      "           File(path='src/pages/privacy_policy.md', type=<FileType.MD: 'md'>, prompt='Create a Privacy Policy page.', state=<FileState.GENERATED: 'generated'>, content='# Privacy Policy\\n\\n## Introduction\\nThis Privacy Policy explains how we collect, use, disclose, and safeguard your information when you use the LLM Interaction App. Please read this policy carefully. If you do not agree with the terms of this policy, please do not access the application.\\n\\n## Information We Collect\\nWe may collect information about you in a variety of ways, including:\\n- **Personal Data**: Personally identifiable information, such as your name, email address, and contact information, that you voluntarily give to us when you register with the application.\\n- **Usage Data**: Information about your interactions with the application, including the pages you visit, the time and date of your visits, and other diagnostic data.\\n\\n## Use of Your Information\\nWe may use the information we collect in the following ways:\\n- To provide, operate, and maintain our application.\\n- To improve, personalize, and expand our application.\\n- To understand and analyze how you use our application.\\n- To develop new products, services, features, and functionality.\\n- To communicate with you, either directly or through one of our partners, including for customer service, to provide you with updates and other information'),\n",
      "           File(path='src/pages/contact.md', type=<FileType.MD: 'md'>, prompt='Create a Contact Information page.', state=<FileState.GENERATED: 'generated'>, content='# Contact Information\\n\\n## Get in Touch\\nIf you have any questions, feedback, or inquiries, feel free to reach out to us through the following methods:\\n\\n### Email\\nYou can contact us via email at: [support@llminteractionapp.com](mailto:support@llminteractionapp.com)\\n\\n### Phone\\nFor immediate assistance, you can call us at: (123) 456-7890\\n\\n### Address\\nVisit us at:\\n\\nLLM Interaction App\\n1234 Tech Lane\\nInnovation City, ST 12345\\n\\n## Follow Us\\nStay updated with our latest news and updates by following us on our social media channels:\\n- [Twitter](https://twitter.com/llminteractionapp)\\n- [Facebook](https://facebook.com/llminteractionapp)\\n- [Instagram](https://instagram.com/llminteractionapp)\\n\\nWe look forward to hearing from you!'),\n",
      "           File(path='tailwind.config.js', type=<FileType.JS: 'js'>, prompt='Create a Tailwind CSS configuration file.', state=<FileState.GENERATED: 'generated'>, content=\"module.exports = {\\n  content: ['./src/**/*.{js,jsx,ts,tsx}', './public/index.html'],\\n  theme: {\\n    extend: {\\n      colors: {\\n        'dark-teal': '#004D4D',\\n        'aqua-orange': '#FF7F50',\\n      },\\n    },\\n  },\\n  plugins: [],\\n};\"),\n",
      "           File(path='postcss.config.js', type=<FileType.JS: 'js'>, prompt='Create a PostCSS configuration file.', state=<FileState.GENERATED: 'generated'>, content=\"module.exports = {\\n  plugins: [\\n    require('tailwindcss'),\\n    require('autoprefixer'),\\n  ],\\n};\"),\n",
      "           File(path='package.json', type=<FileType.JSON: 'json'>, prompt='Create a package.json file with dependencies for React, Tailwind CSS, and any other necessary libraries.', state=<FileState.GENERATED: 'generated'>, content='{\\n  \"name\": \"llm-interaction-app\",\\n  \"version\": \"1.0.0\",\\n  \"private\": true,\\n  \"scripts\": {\\n    \"start\": \"react-scripts start\",\\n    \"build\": \"react-scripts build\",\\n    \"test\": \"react-scripts test\",\\n    \"eject\": \"react-scripts eject\"\\n  },\\n  \"dependencies\": {\\n    \"react\": \"^18.0.0\",\\n    \"react-dom\": \"^18.0.0\",\\n    \"tailwindcss\": \"^3.0.0\",\\n    \"autoprefixer\": \"^10.0.0\",\\n    \"postcss\": \"^8.0.0\"\\n  },\\n  \"devDependencies\": {\\n    \"react-scripts\": \"^5.0.0\"\\n  }\\n}')],\n",
      " 'input': 'Design a web application that allows users to interact with an llm '\n",
      "          'by inputting text prompts and receiving messages.\\n'\n",
      "          '        Use a color palette based on Bright Blue, Dark Teal, Aqua '\n",
      "          'Orange. These colors should be used for the background, text, and '\n",
      "          'buttons.\\n'\n",
      "          '        The application should be mobile-friendly and responsive.\\n'\n",
      "          '        The header will display a futuristic image of a city '\n",
      "          'skyline at night with neon lights.\\n'\n",
      "          '        The footer will contain links to the terms of service, '\n",
      "          'privacy policy, and contact information. Also generate stubs for '\n",
      "          'these pages.\\n'\n",
      "          '        ',\n",
      " 'output_folder': 'agent_output',\n",
      " 'project_description': 'A web application that allows users to interact with '\n",
      "                        'a language model by inputting text prompts and '\n",
      "                        'receiving messages.',\n",
      " 'project_name': 'LLM Interaction App',\n",
      " 'repo_name': 'llm-interaction-app',\n",
      " 'repo_state': <FileState.GENERATED: 'generated'>,\n",
      " 'status': <Status.SUCCESS: 'success'>,\n",
      " 'style': Style(theme='dark', font='sans-serif', colorPalette=['#007BFF', '#004D4D', '#FF7F50'])}\n"
     ]
    }
   ],
   "source": [
    "\n",
    "\n",
    "from promptstrap.state import PromptstrapState\n",
    "from promptstrap.graph import NewGraph\n",
    "from pprint import pprint\n",
    "\n",
    "\n",
    "input_dict = {\n",
    "    \"input\": (\n",
    "        \"\"\"Design a web application that allows users to interact with an llm by inputting text prompts and receiving messages.\n",
    "        Use a color palette based on Bright Blue, Dark Teal, Aqua Orange. These colors should be used for the background, text, and buttons.\n",
    "        The application should be mobile-friendly and responsive.\n",
    "        The header will display a futuristic image of a city skyline at night with neon lights.\n",
    "        The footer will contain links to the terms of service, privacy policy, and contact information. Also generate stubs for these pages.\n",
    "        \"\"\"\n",
    "    )\n",
    "}\n",
    "\n",
    "\n",
    "graph = NewGraph()\n",
    "result = graph.invoke(input_dict)\n",
    "\n",
    "pprint(result)"
   ]
  }
 ],
 "metadata": {
  "kernelspec": {
   "display_name": "promptstrap-_MO4BsZ7-py3.12",
   "language": "python",
   "name": "python3"
  },
  "language_info": {
   "codemirror_mode": {
    "name": "ipython",
    "version": 3
   },
   "file_extension": ".py",
   "mimetype": "text/x-python",
   "name": "python",
   "nbconvert_exporter": "python",
   "pygments_lexer": "ipython3",
   "version": "3.12.7"
  }
 },
 "nbformat": 4,
 "nbformat_minor": 5
}
