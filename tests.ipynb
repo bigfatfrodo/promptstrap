{
 "cells": [
  {
   "cell_type": "code",
   "execution_count": 3,
   "id": "3bab23ea",
   "metadata": {},
   "outputs": [
    {
     "data": {
      "text/plain": [
       "True"
      ]
     },
     "execution_count": 3,
     "metadata": {},
     "output_type": "execute_result"
    }
   ],
   "source": [
    "import dotenv\n",
    "dotenv.load_dotenv()\n"
   ]
  },
  {
   "cell_type": "code",
   "execution_count": null,
   "id": "4fa4df74",
   "metadata": {},
   "outputs": [],
   "source": []
  },
  {
   "cell_type": "code",
   "execution_count": 4,
   "id": "85eaffeb",
   "metadata": {},
   "outputs": [
    {
     "name": "stdout",
     "output_type": "stream",
     "text": [
      "ANALYZE_PROMPT Enter\n",
      "REPO Enter\n",
      "FILES Enter\n"
     ]
    },
    {
     "name": "stderr",
     "output_type": "stream",
     "text": [
      "package.json (FileState.PLANNED): 100%|██████████| 16/16 [04:15<00:00, 15.95s/it]        \n"
     ]
    },
    {
     "name": "stdout",
     "output_type": "stream",
     "text": [
      "INSTALL_DEP Enter\n",
      "npm install completed successfully.\n",
      "BUILD Enter\n",
      "Build failed with errors:\n",
      " Error building project: \n",
      "STDOUT:\n",
      "\n",
      "> neon-chat-llm@0.1.0 build\n",
      "> vite build\n",
      "\n",
      "\u001b[36mvite v4.5.14 \u001b[32mbuilding for production...\u001b[36m\u001b[39m\n",
      "transforming...\n",
      "\n",
      " STDERR:\n",
      "node:internal/process/promises:394\n",
      "    triggerUncaughtException(err, true /* fromPromise */);\n",
      "    ^\n",
      "\n",
      "[Failed to load PostCSS config: Failed to load PostCSS config (searchPath: /Users/bigfatfrodo/code/promptstrap/agent_output/neon-chat-llm-repo): [Failed to load PostCSS config] Failed to load PostCSS config (searchPath: /Users/bigfatfrodo/code/promptstrap/agent_output/neon-chat-llm-repo): [ReferenceError] module is not defined in ES module scope\n",
      "This file is being treated as an ES module because it has a '.js' file extension and '/Users/bigfatfrodo/code/promptstrap/agent_output/neon-chat-llm-repo/package.json' contains \"type\": \"module\". To treat it as a CommonJS script, rename it to use the '.cjs' file extension.\n",
      "ReferenceError: module is not defined in ES module scope\n",
      "This file is being treated as an ES module because it has a '.js' file extension and '/Users/bigfatfrodo/code/promptstrap/agent_output/neon-chat-llm-repo/package.json' contains \"type\": \"module\". To treat it as a CommonJS script, rename it to use the '.cjs' file extension.\n",
      "    at file:///Users/bigfatfrodo/code/promptstrap/agent_output/neon-chat-llm-repo/postcss.config.js:2:1\n",
      "    at ModuleJob.run (node:internal/modules/esm/module_job:274:25)\n",
      "    at async onImport.tracePromise.__proto__ (node:internal/modules/esm/loader:644:26)\n",
      "    at async importDefault (file:///Users/bigfatfrodo/code/promptstrap/agent_output/neon-chat-llm-repo/node_modules/vite/dist/node/chunks/dep-827b23df.js:36557:18)\n",
      "    at async Object.search (file:///Users/bigfatfrodo/code/promptstrap/agent_output/neon-chat-llm-repo/node_modules/vite/dist/node/chunks/dep-827b23df.js:28993:38)\n",
      "]\n",
      "\n",
      "Node.js v22.16.0\n",
      "\n",
      "\n",
      "FILES Enter\n"
     ]
    },
    {
     "name": "stderr",
     "output_type": "stream",
     "text": [
      "postcss.config.js (FileState.NEEDS_SYNC): 100%|██████████| 2/2 [00:00<00:00, 1004.62it/s]"
     ]
    },
    {
     "name": "stdout",
     "output_type": "stream",
     "text": [
      "INSTALL_DEP Enter\n"
     ]
    },
    {
     "name": "stderr",
     "output_type": "stream",
     "text": [
      "\n"
     ]
    },
    {
     "name": "stdout",
     "output_type": "stream",
     "text": [
      "npm install completed successfully.\n",
      "BUILD Enter\n",
      "Build completed successfully.\n",
      "{'behaviors': ['responsive design (flex & media queries via Tailwind)',\n",
      "               'mobile-friendly layout and touch targets',\n",
      "               'accessible color contrast for inputs vs background',\n",
      "               'client-side routing for stub pages',\n",
      "               'mocked LLM responses using lorem ipsum',\n",
      "               'stateful chat history with automatic scrolling',\n",
      "               'dark theme neon aesthetic'],\n",
      " 'error_message': None,\n",
      " 'files': [File(path='src/assets/city-skyline.jpeg', type=<FileType.JPEG_WIDE: 'jpeg_landscape'>, prompt='Create a 1920×1080 futuristic night-time city skyline with neon blue, aqua, teal and orange highlights; highly detailed and cinematic.', state=<FileState.GENERATED: 'generated'>, content=''),\n",
      "           File(path='src/styles/tailwind.css', type=<FileType.CSS: 'css'>, prompt='Add Tailwind’s @tailwind base, @tailwind components, and @tailwind utilities directives only.', state=<FileState.GENERATED: 'generated'>, content='@tailwind base;\\n@tailwind components;\\n@tailwind utilities;\\n'),\n",
      "           File(path='tailwind.config.js', type=<FileType.JS: 'js'>, prompt=\"Configure Tailwind to use JIT and extend the theme with colors: brightBlue:'#0284c7', darkTeal:'#014d4e', aqua:'#06b6d4', orange:'#f97316'. Enable dark mode via class. Include shadcn/ui plugin preset if desired.\", state=<FileState.GENERATED: 'generated'>, content=\"import animatePlugin from 'tailwindcss-animate';\\n\\n/** @type {import('tailwindcss').Config} */\\nexport default {\\n  mode: 'jit',\\n  darkMode: 'class',\\n  content: [\\n    './index.html',\\n    './src/**/*.{js,jsx,ts,tsx}',\\n  ],\\n  theme: {\\n    extend: {\\n      colors: {\\n        brightBlue: '#0284c7',\\n        darkTeal: '#014d4e',\\n        aqua: '#06b6d4',\\n        orange: '#f97316',\\n      },\\n    },\\n  },\\n  plugins: [animatePlugin],\\n};\\n\"),\n",
      "           File(path='postcss.config.js', type=<FileType.JS: 'js'>, prompt='Export PostCSS config using tailwindcss and autoprefixer.', state=<FileState.GENERATED: 'generated'>, content=\"import tailwindcss from 'tailwindcss';\\nimport autoprefixer from 'autoprefixer';\\n\\n/** @type {import('postcss').Config} */\\nexport default {\\n  plugins: [tailwindcss, autoprefixer],\\n};\\n\"),\n",
      "           File(path='src/components/ChatBubble.tsx', type=<FileType.TSX: 'tsx'>, prompt=\"Create a reusable ChatBubble component that receives props {text:string, from:'user'|'llm'}. Use conditional Tailwind classes to align right for user (bg-brightBlue text-white) and left for llm (bg-darkTeal text-white). Rounded-lg, px-4, py-2, max-w-80, shadow.\", state=<FileState.GENERATED: 'generated'>, content=\"import React from 'react';\\n\\ninterface ChatBubbleProps {\\n  text: string;\\n  from: 'user' | 'llm';\\n}\\n\\nconst ChatBubble: React.FC<ChatBubbleProps> = ({ text, from }) => {\\n  const isUser = from === 'user';\\n\\n  const containerClasses = isUser ? 'justify-end' : 'justify-start';\\n  const bubbleClasses = isUser\\n    ? 'bg-brightBlue text-white'\\n    : 'bg-darkTeal text-white';\\n\\n  return (\\n    <div className={`flex w-full ${containerClasses} mb-2`}>\\n      <div\\n        className={`rounded-lg px-4 py-2 max-w-80 shadow break-words ${bubbleClasses}`}\\n      >\\n        {text}\\n      </div>\\n    </div>\\n  );\\n};\\n\\nexport default ChatBubble;\\n\"),\n",
      "           File(path='src/components/ChatWindow.tsx', type=<FileType.TSX: 'tsx'>, prompt='Build ChatWindow that maintains chat history state. Each entry has {id, text, from}. Provide an input controlled component with text-gray-900 on white bg, border, rounded, flex responsive. Submit button on the left with bg-orange hover:bg-brightBlue text-white rounded-lg. On submit, push user bubble then random lorem ipsum as llm bubble. Use ChatBubble component. Container has thin rounded border and shadow, with overflow-y-auto and responsive height.', state=<FileState.GENERATED: 'generated'>, content='import React, { useEffect, useRef, useState } from \\'react\\';\\nimport ChatBubble from \\'./ChatBubble\\';\\n\\ninterface ChatEntry {\\n  id: number;\\n  text: string;\\n  from: \\'user\\' | \\'llm\\';\\n}\\n\\n// Some sample lorem-ipsum sentences to mock LLM replies\\nconst LOREM_RESPONSES: string[] = [\\n  \\'Lorem ipsum dolor sit amet, consectetur adipiscing elit.\\',\\n  \\'Sed do eiusmod tempor incididunt ut labore et dolore magna aliqua.\\',\\n  \\'Ut enim ad minim veniam, quis nostrud exercitation ullamco laboris nisi ut aliquip ex ea commodo consequat.\\',\\n  \\'Duis aute irure dolor in reprehenderit in voluptate velit esse cillum dolore eu fugiat nulla pariatur.\\',\\n  \\'Excepteur sint occaecat cupidatat non proident, sunt in culpa qui officia deserunt mollit anim id est laborum.\\'\\n];\\n\\nconst ChatWindow: React.FC = () => {\\n  const [chatHistory, setChatHistory] = useState<ChatEntry[]>([]);\\n  const [userInput, setUserInput] = useState(\\'\\');\\n  const messagesEndRef = useRef<HTMLDivElement | null>(null);\\n\\n  // Scroll to bottom whenever chatHistory changes\\n  useEffect(() => {\\n    if (messagesEndRef.current) {\\n      messagesEndRef.current.scrollIntoView({ behavior: \\'smooth\\' });\\n    }\\n  }, [chatHistory]);\\n\\n  const handleSubmit = (e: React.FormEvent) => {\\n    e.preventDefault();\\n    const trimmed = userInput.trim();\\n    if (!trimmed) return;\\n\\n    const userMessage: ChatEntry = {\\n      id: Date.now(),\\n      text: trimmed,\\n      from: \\'user\\'\\n    };\\n\\n    setChatHistory(prev => [...prev, userMessage]);\\n    setUserInput(\\'\\');\\n\\n    // Mock asynchronous LLM response\\n    setTimeout(() => {\\n      const randomText =\\n        LOREM_RESPONSES[Math.floor(Math.random() * LOREM_RESPONSES.length)];\\n      const llmMessage: ChatEntry = {\\n        id: Date.now() + 1, // ensure different id\\n        text: randomText,\\n        from: \\'llm\\'\\n      };\\n      setChatHistory(prev => [...prev, llmMessage]);\\n    }, 400);\\n  };\\n\\n  return (\\n    <div className=\"flex flex-col border border-gray-600 rounded-md shadow-md h-[60vh] md:h-[70vh] w-full max-w-3xl mx-auto bg-darkTeal/20 backdrop-blur-sm\">\\n      {/* Messages area */}\\n      <div className=\"flex-1 overflow-y-auto p-4 space-y-2\">\\n        {chatHistory.map(entry => (\\n          <ChatBubble key={entry.id} text={entry.text} from={entry.from} />\\n        ))}\\n        {/* Anchor div for automatic scrolling */}\\n        <div ref={messagesEndRef} />\\n      </div>\\n\\n      {/* Input area */}\\n      <form\\n        onSubmit={handleSubmit}\\n        className=\"flex items-center gap-2 p-4 border-t border-gray-600 bg-darkTeal/30 backdrop-blur-sm\"\\n      >\\n        <button\\n          type=\"submit\"\\n          className=\"bg-orange hover:bg-brightBlue text-white rounded-lg px-4 py-2 transition-colors\"\\n        >\\n          Send\\n        </button>\\n\\n        <input\\n          type=\"text\"\\n          placeholder=\"Type your message...\"\\n          className=\"flex-1 bg-white text-gray-900 border border-gray-300 rounded-lg px-3 py-2 focus:outline-none focus:ring-2 focus:ring-brightBlue\"\\n          value={userInput}\\n          onChange={e => setUserInput(e.target.value)}\\n        />\\n      </form>\\n    </div>\\n  );\\n};\\n\\nexport default ChatWindow;\\n'),\n",
      "           File(path='src/components/Header.tsx', type=<FileType.TSX: 'tsx'>, prompt=\"Header component displaying the skyline jpeg imported as skylineImg. Use w-full h-48 bg-cover bg-center with overlay of semi-transparent darkTeal and title text 'Neon Chat LLM'.\", state=<FileState.GENERATED: 'generated'>, content='import React from \\'react\\';\\nimport skylineImg from \\'../assets/city-skyline.jpeg\\';\\n\\nconst Header: React.FC = () => {\\n  return (\\n    <header className=\"relative w-full h-48\">\\n      {/* Background image */}\\n      <img\\n        src={skylineImg}\\n        alt=\"Futuristic city skyline at night\"\\n        className=\"absolute inset-0 w-full h-full object-cover\"\\n      />\\n      {/* Overlay */}\\n      <div className=\"absolute inset-0 bg-darkTeal/60\" />\\n      {/* Title */}\\n      <h1 className=\"relative z-10 flex items-center justify-center h-full text-3xl md:text-4xl font-bold text-aqua\">\\n        Neon Chat LLM\\n      </h1>\\n    </header>\\n  );\\n};\\n\\nexport default Header;\\n'),\n",
      "           File(path='src/components/Footer.tsx', type=<FileType.TSX: 'tsx'>, prompt='Footer with flex gap-4 justify-center text-sm text-aqua. Use <Link> from react-router-dom to /terms, /privacy, /contact. Add top border and pt-4.', state=<FileState.GENERATED: 'generated'>, content='import React from \\'react\\';\\nimport { Link } from \\'react-router-dom\\';\\n\\nconst Footer: React.FC = () => {\\n  return (\\n    <footer className=\"border-t border-gray-600 pt-4\">\\n      <nav className=\"flex gap-4 justify-center text-sm text-aqua\">\\n        <Link to=\"/terms\" className=\"hover:underline\">\\n          Terms of Service\\n        </Link>\\n        <Link to=\"/privacy\" className=\"hover:underline\">\\n          Privacy Policy\\n        </Link>\\n        <Link to=\"/contact\" className=\"hover:underline\">\\n          Contact\\n        </Link>\\n      </nav>\\n    </footer>\\n  );\\n};\\n\\nexport default Footer;\\n'),\n",
      "           File(path='src/pages/TermsOfService.tsx', type=<FileType.TSX: 'tsx'>, prompt=\"Stub page with h1 'Terms of Service' and placeholder paragraphs styled with prose classes.\", state=<FileState.GENERATED: 'generated'>, content='import React from \\'react\\';\\n\\nconst TermsOfService: React.FC = () => {\\n  return (\\n    <main className=\"flex-1 p-6\">\\n      <h1 className=\"text-3xl font-bold text-aqua mb-6\">Terms of Service</h1>\\n      <section className=\"prose prose-invert max-w-none\">\\n        <p>\\n          This Terms of Service page is currently under construction. In the meantime, please\\n          enjoy this placeholder text. Lorem ipsum dolor sit amet, consectetur adipiscing elit.\\n          Integer nec odio. Praesent libero. Sed cursus ante dapibus diam.\\n        </p>\\n        <p>\\n          Sed nisi. Nulla quis sem at nibh elementum imperdiet. Duis sagittis ipsum. Praesent\\n          mauris. Fusce nec tellus sed augue semper porta. Mauris massa.\\n        </p>\\n        <p>\\n          Vestibulum lacinia arcu eget nulla. Class aptent taciti sociosqu ad litora torquent per\\n          conubia nostra, per inceptos himenaeos. Curabitur sodales ligula in libero.\\n        </p>\\n      </section>\\n    </main>\\n  );\\n};\\n\\nexport default TermsOfService;\\n'),\n",
      "           File(path='src/pages/PrivacyPolicy.tsx', type=<FileType.TSX: 'tsx'>, prompt=\"Stub page with h1 'Privacy Policy' and lorem text using Tailwind prose.\", state=<FileState.GENERATED: 'generated'>, content='import React from \\'react\\';\\n\\nconst PrivacyPolicy: React.FC = () => {\\n  return (\\n    <main className=\"flex-1 p-6\">\\n      <h1 className=\"text-3xl font-bold text-aqua mb-6\">Privacy Policy</h1>\\n      <section className=\"prose prose-invert max-w-none\">\\n        <p>\\n          Lorem ipsum dolor sit amet, consectetur adipiscing elit. Integer nec odio. Praesent\\n          libero. Sed cursus ante dapibus diam. Sed nisi. Nulla quis sem at nibh elementum\\n          imperdiet. Duis sagittis ipsum.\\n        </p>\\n        <p>\\n          Praesent mauris. Fusce nec tellus sed augue semper porta. Mauris massa. Vestibulum\\n          lacinia arcu eget nulla. Class aptent taciti sociosqu ad litora torquent per conubia\\n          nostra, per inceptos himenaeos.\\n        </p>\\n        <p>\\n          Curabitur sodales ligula in libero. Sed dignissim lacinia nunc. Curabitur tortor.\\n          Pellentesque nibh. Aenean quam. In scelerisque sem at dolor. Maecenas mattis. Sed\\n          convallis tristique sem.\\n        </p>\\n        <p>\\n          Proin ut ligula vel nunc egestas porttitor. Morbi lectus risus, iaculis vel, suscipit\\n          quis, luctus non, massa. Fusce ac turpis quis ligula lacinia aliquet. Mauris ipsum.\\n          Nulla metus metus, ullamcorper vel, tincidunt sed, euismod in, nibh.\\n        </p>\\n        <p>\\n          Quisque volutpat condimentum velit. Class aptent taciti sociosqu ad litora torquent per\\n          conubia nostra, per inceptos himenaeos. Nam nec ante. Sed lacinia, urna non tincidunt\\n          mattis, tortor neque adipiscing diam, a cursus ipsum ante quis turpis.\\n        </p>\\n      </section>\\n    </main>\\n  );\\n};\\n\\nexport default PrivacyPolicy;\\n'),\n",
      "           File(path='src/pages/Contact.tsx', type=<FileType.TSX: 'tsx'>, prompt=\"Stub page with h1 'Contact' and simple contact info list.\", state=<FileState.GENERATED: 'generated'>, content='import React from \\'react\\';\\n\\nconst Contact: React.FC = () => {\\n  return (\\n    <main className=\"flex-1 p-6\">\\n      <h1 className=\"text-3xl font-bold text-aqua mb-6\">Contact</h1>\\n\\n      <ul className=\"space-y-2 text-white\">\\n        <li>\\n          <span className=\"font-semibold\">Email:</span>{\\' \\'}\\n          <a\\n            href=\"mailto:support@neonchat.example\"\\n            className=\"text-brightBlue hover:underline\"\\n          >\\n            support@neonchat.example\\n          </a>\\n        </li>\\n        <li>\\n          <span className=\"font-semibold\">Phone:</span>{\\' \\'}\\n          <span className=\"text-orange\">+1 (555) 123-4567</span>\\n        </li>\\n        <li>\\n          <span className=\"font-semibold\">Address:</span>{\\' \\'}\\n          123 Neon Ave, Suite 42, Metropolis, NY 10101\\n        </li>\\n      </ul>\\n    </main>\\n  );\\n};\\n\\nexport default Contact;\\n'),\n",
      "           File(path='src/pages/Home.tsx', type=<FileType.TSX: 'tsx'>, prompt='Home page composing Header, ChatWindow, and Footer inside a responsive container.', state=<FileState.GENERATED: 'generated'>, content='import React from \\'react\\';\\n\\nimport Header from \\'../components/Header\\';\\nimport ChatWindow from \\'../components/ChatWindow\\';\\nimport Footer from \\'../components/Footer\\';\\n\\nconst Home: React.FC = () => {\\n  return (\\n    <div className=\"flex flex-col min-h-screen bg-darkTeal text-aqua\">\\n      {/* Site Header */}\\n      <Header />\\n\\n      {/* Main Content */}\\n      <main className=\"flex-1 flex items-center justify-center p-4\">\\n        {/* Chat window is centered and already responsive */}\\n        <ChatWindow />\\n      </main>\\n\\n      {/* Site Footer */}\\n      <Footer />\\n    </div>\\n  );\\n};\\n\\nexport default Home;\\n'),\n",
      "           File(path='src/App.tsx', type=<FileType.TSX: 'tsx'>, prompt=\"Root app that sets up BrowserRouter routes: / -> Home, /terms -> TermsOfService, /privacy -> PrivacyPolicy, /contact -> Contact. Wrap in div className='min-h-screen bg-darkTeal text-aqua flex flex-col'.\", state=<FileState.GENERATED: 'generated'>, content='import React from \\'react\\';\\nimport { BrowserRouter as Router, Routes, Route } from \\'react-router-dom\\';\\n\\nimport Home from \\'./pages/Home\\';\\nimport TermsOfService from \\'./pages/TermsOfService\\';\\nimport PrivacyPolicy from \\'./pages/PrivacyPolicy\\';\\nimport Contact from \\'./pages/Contact\\';\\n\\nconst App: React.FC = () => {\\n  return (\\n    <Router>\\n      <div className=\"min-h-screen bg-darkTeal text-aqua flex flex-col\">\\n        <Routes>\\n          <Route path=\"/\" element={<Home />} />\\n          <Route path=\"/terms\" element={<TermsOfService />} />\\n          <Route path=\"/privacy\" element={<PrivacyPolicy />} />\\n          <Route path=\"/contact\" element={<Contact />} />\\n        </Routes>\\n      </div>\\n    </Router>\\n  );\\n};\\n\\nexport default App;\\n'),\n",
      "           File(path='src/main.tsx', type=<FileType.TSX: 'tsx'>, prompt=\"Vite entry: import ReactDOM.createRoot, import './styles/tailwind.css', render <App /> into #root.\", state=<FileState.GENERATED: 'generated'>, content=\"import React from 'react';\\nimport ReactDOM from 'react-dom/client';\\n\\nimport './styles/tailwind.css';\\nimport App from './App';\\n\\nconst container = document.getElementById('root') as HTMLElement;\\nconst root = ReactDOM.createRoot(container);\\n\\nroot.render(\\n  <React.StrictMode>\\n    <App />\\n  </React.StrictMode>\\n);\\n\"),\n",
      "           File(path='index.html', type=<FileType.HTML: 'html'>, prompt=\"Standard Vite index.html with <div id='root'></div>, meta viewport for responsiveness, title 'Neon Chat LLM', link to manifest if needed.\", state=<FileState.GENERATED: 'generated'>, content='<!DOCTYPE html>\\n<html lang=\"en\">\\n  <head>\\n    <meta charset=\"UTF-8\" />\\n    <meta name=\"viewport\" content=\"width=device-width, initial-scale=1.0\" />\\n    <title>Neon Chat LLM</title>\\n    <link rel=\"manifest\" href=\"/manifest.webmanifest\" />\\n  </head>\\n  <body class=\"min-h-screen bg-darkTeal text-aqua\">\\n    <div id=\"root\"></div>\\n    <script type=\"module\" src=\"/src/main.tsx\"></script>\\n  </body>\\n</html>'),\n",
      "           File(path='package.json', type=<FileType.JSON: 'json'>, prompt='Create package.json with name neon-chat-llm, scripts for dev, build, preview (vite). Dependencies: react, react-dom, react-router-dom, tailwindcss, autoprefixer, postcss, classnames, shadcn/ui or @radix-ui (optional). Dev deps: typescript, vite, @types/react, @types/react-dom.', state=<FileState.GENERATED: 'generated'>, content='{\\n  \"name\": \"neon-chat-llm\",\\n  \"version\": \"0.1.0\",\\n  \"private\": true,\\n  \"type\": \"module\",\\n  \"scripts\": {\\n    \"dev\": \"vite\",\\n    \"build\": \"vite build\",\\n    \"preview\": \"vite preview\"\\n  },\\n  \"dependencies\": {\\n    \"@radix-ui/react-slot\": \"^1.0.2\",\\n    \"autoprefixer\": \"^10.4.16\",\\n    \"classnames\": \"^2.3.2\",\\n    \"postcss\": \"^8.4.33\",\\n    \"react\": \"^18.2.0\",\\n    \"react-dom\": \"^18.2.0\",\\n    \"react-router-dom\": \"^6.17.0\",\\n    \"tailwindcss\": \"^3.4.4\",\\n    \"tailwindcss-animate\": \"^1.0.0\"\\n  },\\n  \"devDependencies\": {\\n    \"@types/react\": \"^18.2.24\",\\n    \"@types/react-dom\": \"^18.2.9\",\\n    \"typescript\": \"^5.2.2\",\\n    \"vite\": \"^4.4.9\"\\n  }\\n}')],\n",
      " 'input': 'Design a web application that allows users to interact with an llm '\n",
      "          'by inputting text prompts and receiving messages.\\n'\n",
      "          'Use a color palette based on Bright Blue, Dark Teal, Aqua Orange. '\n",
      "          'These colors should be used for the background, text, and buttons.\\n'\n",
      "          'The chat components are an input field for user prompt, a submit '\n",
      "          'button and a display area for the llm response. In the display '\n",
      "          'area,\\n'\n",
      "          'the llm response should be shown in a chat bubble aligned to the '\n",
      "          'left, and the user prompt should be shown in a chat bubble aligned '\n",
      "          'to the right.\\n'\n",
      "          'Also, the chat components should be bounded by a thin round-corner '\n",
      "          'border with a shadow effect. The button should be to the left of '\n",
      "          'the input field.\\n'\n",
      "          'The display area should be above the input field and button.\\n'\n",
      "          'The LLM responses should be mocked with random sequences from the '\n",
      "          'lorem ipsum text.\\n'\n",
      "          'The application should be mobile-friendly and responsive.\\n'\n",
      "          'The header will display a futuristic image of a city skyline at '\n",
      "          'night with neon lights.\\n'\n",
      "          'The footer will contain links to the terms of service, privacy '\n",
      "          'policy, and contact information. Also generate stubs for these '\n",
      "          'pages.',\n",
      " 'output_folder': 'agent_output',\n",
      " 'project_description': 'Responsive React + Tailwind web chat that mocks LLM '\n",
      "                        'replies, themed with bright-blue / dark-teal / aqua / '\n",
      "                        'orange neon palette.',\n",
      " 'project_name': 'neon-chat-llm',\n",
      " 'repo_name': 'neon-chat-llm-repo',\n",
      " 'repo_state': <FileState.GENERATED: 'generated'>,\n",
      " 'status': <Status.SUCCESS: 'success'>,\n",
      " 'style': Style(theme='dark', font='sans-serif', colorPalette=['#0284c7', '#014d4e', '#06b6d4', '#f97316'])}\n"
     ]
    }
   ],
   "source": [
    "\n",
    "\n",
    "from promptstrap.state import PromptstrapState\n",
    "from promptstrap.graph import NewGraph\n",
    "from pprint import pprint\n",
    "\n",
    "\n",
    "input_dict = {\n",
    "    \"input\": (\n",
    "        \"\"\"Design a web application that allows users to interact with an llm by inputting text prompts and receiving messages.\n",
    "        Use a color palette based on Bright Blue, Dark Teal, Aqua Orange. These colors should be used for the background, text, and buttons.\n",
    "        The chat components are an input field for user prompt, a submit button and a display area for the llm response. In the display area,\n",
    "        the llm response should be shown in a chat bubble aligned to the left, and the user prompt should be shown in a chat bubble aligned to the right.\n",
    "        Also, the chat components should be bounded by a thin round-corner border with a shadow effect. The button should be to the left of the input field.\n",
    "        The display area should be above the input field and button.\n",
    "        The LLM responses should be mocked with random sequences from the lorem ipsum text.\n",
    "        The application should be mobile-friendly and responsive.\n",
    "        The header will display a futuristic image of a city skyline at night with neon lights.\n",
    "        The footer will contain links to the terms of service, privacy policy, and contact information. Also generate stubs for these pages.\n",
    "        \"\"\"\n",
    "    )\n",
    "}\n",
    "\n",
    "\n",
    "graph = NewGraph()\n",
    "result = graph.invoke(input_dict)\n",
    "\n",
    "pprint(result)"
   ]
  }
 ],
 "metadata": {
  "kernelspec": {
   "display_name": "promptstrap-_MO4BsZ7-py3.12",
   "language": "python",
   "name": "python3"
  },
  "language_info": {
   "codemirror_mode": {
    "name": "ipython",
    "version": 3
   },
   "file_extension": ".py",
   "mimetype": "text/x-python",
   "name": "python",
   "nbconvert_exporter": "python",
   "pygments_lexer": "ipython3",
   "version": "3.12.7"
  }
 },
 "nbformat": 4,
 "nbformat_minor": 5
}
