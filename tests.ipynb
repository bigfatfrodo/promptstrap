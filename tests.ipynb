{
 "cells": [
  {
   "cell_type": "code",
   "execution_count": 1,
   "id": "3bab23ea",
   "metadata": {},
   "outputs": [
    {
     "data": {
      "text/plain": [
       "True"
      ]
     },
     "execution_count": 1,
     "metadata": {},
     "output_type": "execute_result"
    }
   ],
   "source": [
    "import dotenv\n",
    "dotenv.load_dotenv()\n"
   ]
  },
  {
   "cell_type": "code",
   "execution_count": 2,
   "id": "85eaffeb",
   "metadata": {},
   "outputs": [
    {
     "name": "stdout",
     "output_type": "stream",
     "text": [
      "{'behaviors': ['Mobile-friendly', 'Responsive'],\n",
      " 'components': [{'functionality': ['Display a futuristic image of a city '\n",
      "                                   'skyline at night with neon lights.'],\n",
      "                 'name': 'Header',\n",
      "                 'parent_component': None,\n",
      "                 'source': 'city_skyline.jpg'},\n",
      "                {'functionality': ['Contain links to terms of service, privacy '\n",
      "                                   'policy, and contact information.'],\n",
      "                 'name': 'Footer',\n",
      "                 'parent_component': None,\n",
      "                 'source': None},\n",
      "                {'functionality': ['Allow users to input text prompts for the '\n",
      "                                   'AI.'],\n",
      "                 'name': 'Text Input',\n",
      "                 'parent_component': None,\n",
      "                 'source': None},\n",
      "                {'functionality': ['Display messages received from the AI in '\n",
      "                                   'response to user prompts.'],\n",
      "                 'name': 'Message Display',\n",
      "                 'parent_component': None,\n",
      "                 'source': None}],\n",
      " 'dependencies': ['React', 'Tailwind CSS', 'shadc/ui'],\n",
      " 'input': 'Design a web application that allows users to interact with an AI '\n",
      "          'by inputting text prompts and receiving messages.',\n",
      " 'project_description': 'A web application for interacting with an AI through '\n",
      "                        'text prompts and messages.',\n",
      " 'project_name': 'AI-Interaction-Web-App',\n",
      " 'repo_name': '',\n",
      " 'repo_ssh_url': '',\n",
      " 'style': {'colorPalette': ['#3B82F6', '#047857', '#FFA500'],\n",
      "           'font': 'sans-serif',\n",
      "           'theme': 'light'}}\n"
     ]
    }
   ],
   "source": [
    "\n",
    "from langgraph.graph import StateGraph\n",
    "\n",
    "from promptstrap.state import PromptstrapState\n",
    "from promptstrap.graph import node_analyze_prompt\n",
    "\n",
    "from pprint import pprint\n",
    "\n",
    "\n",
    "graph = StateGraph(state_schema=PromptstrapState)\n",
    "graph.add_node(\"AnalyzePrompt\", node_analyze_prompt)\n",
    "\n",
    "graph.set_entry_point(\"AnalyzePrompt\")\n",
    "compiled_graph = graph.compile()\n",
    "\n",
    "input_dict = {\n",
    "    \"input\": (\n",
    "        \"\"\"Design a web application that allows users to interact with an llm by inputting text prompts and receiving messages.\n",
    "        Use a color palette based on Bright Blue, Dark Teal, Aqua Orange.\n",
    "        The application sohuld be mobile-friendly and responsive.\n",
    "        The header will display a futuristic image of a city skyline at night with neon lights.\n",
    "        The footer will contain links to the terms of service, privacy policy, and contact information.\n",
    "        \"\"\"\n",
    "    )\n",
    "}\n",
    "\n",
    "result = compiled_graph.invoke(input_dict)\n",
    "\n",
    "pprint(result)"
   ]
  }
 ],
 "metadata": {
  "kernelspec": {
   "display_name": "promptstrap-_MO4BsZ7-py3.12",
   "language": "python",
   "name": "python3"
  },
  "language_info": {
   "codemirror_mode": {
    "name": "ipython",
    "version": 3
   },
   "file_extension": ".py",
   "mimetype": "text/x-python",
   "name": "python",
   "nbconvert_exporter": "python",
   "pygments_lexer": "ipython3",
   "version": "3.12.7"
  }
 },
 "nbformat": 4,
 "nbformat_minor": 5
}
