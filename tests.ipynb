{
 "cells": [
  {
   "cell_type": "code",
   "execution_count": 3,
   "id": "3bab23ea",
   "metadata": {},
   "outputs": [
    {
     "data": {
      "text/plain": [
       "True"
      ]
     },
     "execution_count": 3,
     "metadata": {},
     "output_type": "execute_result"
    }
   ],
   "source": [
    "import dotenv\n",
    "dotenv.load_dotenv()\n"
   ]
  },
  {
   "cell_type": "code",
   "execution_count": 4,
   "id": "85eaffeb",
   "metadata": {},
   "outputs": [
    {
     "name": "stdout",
     "output_type": "stream",
     "text": [
      "ANALYZE_PROMPT Enter\n",
      "REPO Enter\n",
      "FILES Enter\n"
     ]
    },
    {
     "name": "stderr",
     "output_type": "stream",
     "text": [
      "package.json (FileState.PLANNED): 100%|██████████| 16/16 [01:26<00:00,  5.42s/it]        \n"
     ]
    },
    {
     "name": "stdout",
     "output_type": "stream",
     "text": [
      "INSTALL_DEP Enter\n",
      "npm install completed successfully.\n",
      "BUILD Enter\n",
      "Build failed with errors:\n",
      " Error building project: \n",
      "STDOUT:\n",
      "\n",
      "> llm-interaction-app@1.0.0 build\n",
      "> react-scripts build\n",
      "\n",
      "Creating an optimized production build...\n",
      "\u001b[31mFailed to compile.\u001b[39m\n",
      "\u001b[31m\u001b[39m\n",
      "Syntax error: /Users/bigfatfrodo/code/promptstrap/agent_output/llm-interaction-app/src/styles/tailwind.css The `hover:bg-orange-600` class does not exist, but `hover:bg-green-600` does. If you're sure that `hover:bg-orange-600` exists, make sure that any `@import` statements are being properly processed before Tailwind CSS sees your CSS, as `@apply` can only be used for classes in the same CSS tree. (10:56)\n",
      " \u001b[90m  8 | \u001b[39m  \u001b[33m}\u001b[39m\n",
      " \u001b[90m  9 | \u001b[39m  \u001b[33m.submit-button\u001b[39m \u001b[33m{\u001b[39m\n",
      "\u001b[1m\u001b[31m>\u001b[39m\u001b[22m\u001b[90m 10 | \u001b[39m    \u001b[36m@apply\u001b[39m bg-aqua-orange text-white py-2 px-4 rounded hover\u001b[33m:\u001b[39mbg-orange-600\u001b[33m;\u001b[39m\n",
      " \u001b[90m    | \u001b[39m                                                       \u001b[1m\u001b[31m^\u001b[39m\u001b[22m\n",
      " \u001b[90m 11 | \u001b[39m  \u001b[33m}\u001b[39m\n",
      " \u001b[90m 12 | \u001b[39m\u001b[33m}\u001b[39m\n",
      "\n",
      "\n",
      "\n",
      " STDERR:\n",
      "\n",
      "\u001b[1m\u001b[33mwarn\u001b[39m\u001b[22m - Tailwind is not purging unused styles because no template paths have been provided.\n",
      "\u001b[1m\u001b[33mwarn\u001b[39m\u001b[22m - If you have manually configured PurgeCSS outside of Tailwind or are deliberately not removing unused styles, set `purge: false` in your Tailwind config file to silence this warning.\n",
      "\u001b[1m\u001b[33mwarn\u001b[39m\u001b[22m - https://tailwindcss.com/docs/controlling-file-size/#removing-unused-css\n",
      "\n",
      "\n",
      "FILES Enter\n"
     ]
    },
    {
     "name": "stderr",
     "output_type": "stream",
     "text": [
      "onents/InputForm.jsx (FileState.NEEDS_SYNC): 100%|██████████| 2/2 [00:00<00:00, 1515.01it/s]"
     ]
    },
    {
     "name": "stdout",
     "output_type": "stream",
     "text": [
      "INSTALL_DEP Enter\n"
     ]
    },
    {
     "name": "stderr",
     "output_type": "stream",
     "text": [
      "\n"
     ]
    },
    {
     "name": "stdout",
     "output_type": "stream",
     "text": [
      "npm install completed successfully.\n",
      "BUILD Enter\n",
      "Build completed successfully.\n",
      "{'behaviors': ['responsive', 'mobile-friendly', 'accessible', 'interactive'],\n",
      " 'error_message': None,\n",
      " 'files': [File(path='src/styles/tailwind.css', type=<FileType.CSS: 'css'>, prompt='Create a Tailwind CSS file for styling the application.', state=<FileState.GENERATED: 'generated'>, content='@tailwind base;\\n@tailwind components;\\n@tailwind utilities;\\n\\n@layer components {\\n  .input-field {\\n    @apply border border-gray-300 rounded p-2 mb-4 text-black bg-white;\\n  }\\n  .submit-button {\\n    @apply bg-aqua-orange text-white py-2 px-4 rounded hover:bg-green-600;\\n  }\\n}\\n\\n@layer utilities {\\n  .bg-bright-blue {\\n    background-color: #007BFF;\\n  }\\n  .bg-dark-teal {\\n    background-color: #004D4D;\\n  }\\n  .bg-aqua-orange {\\n    background-color: #FF7F50;\\n  }\\n}'),\n",
      "           File(path='src/components/InputForm.jsx', type=<FileType.JSX: 'jsx'>, prompt='Create an InputForm component that allows users to input text prompts and submit them.', state=<FileState.GENERATED: 'generated'>, content='import React, { useState } from \\'react\\';\\n\\nconst InputForm = () => {\\n  const [inputValue, setInputValue] = useState(\\'\\');\\n\\n  const handleSubmit = (e) => {\\n    e.preventDefault();\\n    // Handle the input submission logic here\\n    console.log(inputValue);\\n    setInputValue(\\'\\'); // Clear the input after submission\\n  };\\n\\n  return (\\n    <form onSubmit={handleSubmit} className=\"flex flex-col items-center p-4\">\\n      <input\\n        type=\"text\"\\n        value={inputValue}\\n        onChange={(e) => setInputValue(e.target.value)}\\n        className=\"border border-gray-300 rounded p-2 mb-4 text-black bg-white\"\\n        placeholder=\"Type your prompt here...\"\\n        style={{ color: \\'#000000\\' }}\\n      />\\n      <button type=\"submit\" className=\"bg-aqua-orange text-white py-2 px-4 rounded hover:bg-green-600\">\\n        Submit\\n      </button>\\n    </form>\\n  );\\n};\\n\\nexport default InputForm;')],\n",
      " 'input': 'Design a web application that allows users to interact with an llm '\n",
      "          'by inputting text prompts and receiving messages.\\n'\n",
      "          '        Use a color palette based on Bright Blue, Dark Teal, Aqua '\n",
      "          'Orange. These colors should be used for the background, text, and '\n",
      "          'buttons.\\n'\n",
      "          '        The application should be mobile-friendly and responsive.\\n'\n",
      "          '        The header will display a futuristic image of a city '\n",
      "          'skyline at night with neon lights.\\n'\n",
      "          '        The footer will contain links to the terms of service, '\n",
      "          'privacy policy, and contact information. Also generate stubs for '\n",
      "          'these pages.\\n'\n",
      "          '        ',\n",
      " 'output_folder': 'agent_output',\n",
      " 'project_description': 'A web application that allows users to interact with '\n",
      "                        'a language model by inputting text prompts and '\n",
      "                        'receiving messages.',\n",
      " 'project_name': 'LLM Interaction App',\n",
      " 'repo_name': 'llm-interaction-app',\n",
      " 'repo_state': <FileState.GENERATED: 'generated'>,\n",
      " 'status': <Status.SUCCESS: 'success'>,\n",
      " 'style': Style(theme='light', font='sans-serif', colorPalette=['#007BFF', '#004D4D', '#FF7F50'])}\n"
     ]
    }
   ],
   "source": [
    "\n",
    "\n",
    "from promptstrap.state import PromptstrapState\n",
    "from promptstrap.graph import NewGraph\n",
    "from pprint import pprint\n",
    "\n",
    "\n",
    "input_dict = {\n",
    "    \"input\": (\n",
    "        \"\"\"Design a web application that allows users to interact with an llm by inputting text prompts and receiving messages.\n",
    "        Use a color palette based on Bright Blue, Dark Teal, Aqua Orange. These colors should be used for the background, text, and buttons.\n",
    "        The application should be mobile-friendly and responsive.\n",
    "        The header will display a futuristic image of a city skyline at night with neon lights.\n",
    "        The footer will contain links to the terms of service, privacy policy, and contact information. Also generate stubs for these pages.\n",
    "        \"\"\"\n",
    "    )\n",
    "}\n",
    "\n",
    "\n",
    "graph = NewGraph()\n",
    "result = graph.invoke(input_dict)\n",
    "\n",
    "pprint(result)"
   ]
  }
 ],
 "metadata": {
  "kernelspec": {
   "display_name": "promptstrap-_MO4BsZ7-py3.12",
   "language": "python",
   "name": "python3"
  },
  "language_info": {
   "codemirror_mode": {
    "name": "ipython",
    "version": 3
   },
   "file_extension": ".py",
   "mimetype": "text/x-python",
   "name": "python",
   "nbconvert_exporter": "python",
   "pygments_lexer": "ipython3",
   "version": "3.12.7"
  }
 },
 "nbformat": 4,
 "nbformat_minor": 5
}
