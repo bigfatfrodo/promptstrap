{
 "cells": [
  {
   "cell_type": "code",
   "execution_count": 1,
   "id": "3bab23ea",
   "metadata": {},
   "outputs": [
    {
     "data": {
      "text/plain": [
       "True"
      ]
     },
     "execution_count": 1,
     "metadata": {},
     "output_type": "execute_result"
    }
   ],
   "source": [
    "import dotenv\n",
    "dotenv.load_dotenv()\n"
   ]
  },
  {
   "cell_type": "code",
   "execution_count": 2,
   "id": "85eaffeb",
   "metadata": {},
   "outputs": [
    {
     "name": "stdout",
     "output_type": "stream",
     "text": [
      "ANALYZE_PROMPT Enter\n",
      "REPO Enter\n",
      "FILES Enter\n"
     ]
    },
    {
     "name": "stderr",
     "output_type": "stream",
     "text": [
      "Creating files:   0%|          | 0/12 [00:00<?, ?it/s]"
     ]
    },
    {
     "name": "stdout",
     "output_type": "stream",
     "text": [
      "Creating file agent_output/llm-interaction-app/src/components/Header.jsx\n"
     ]
    },
    {
     "name": "stderr",
     "output_type": "stream",
     "text": [
      "Creating files:  17%|█▋        | 2/12 [00:03<00:16,  1.62s/it]"
     ]
    },
    {
     "name": "stdout",
     "output_type": "stream",
     "text": [
      "Creating file agent_output/llm-interaction-app/src/components/Footer.jsx\n"
     ]
    },
    {
     "name": "stderr",
     "output_type": "stream",
     "text": [
      "Creating files:  25%|██▌       | 3/12 [00:10<00:34,  3.79s/it]"
     ]
    },
    {
     "name": "stdout",
     "output_type": "stream",
     "text": [
      "Creating file agent_output/llm-interaction-app/src/components/ChatInput.jsx\n"
     ]
    },
    {
     "name": "stderr",
     "output_type": "stream",
     "text": [
      "Creating files:  33%|███▎      | 4/12 [00:17<00:40,  5.03s/it]"
     ]
    },
    {
     "name": "stdout",
     "output_type": "stream",
     "text": [
      "Creating file agent_output/llm-interaction-app/src/components/ChatOutput.jsx\n"
     ]
    },
    {
     "name": "stderr",
     "output_type": "stream",
     "text": [
      "Creating files:  42%|████▏     | 5/12 [00:21<00:32,  4.61s/it]"
     ]
    },
    {
     "name": "stdout",
     "output_type": "stream",
     "text": [
      "Creating file agent_output/llm-interaction-app/src/App.jsx\n"
     ]
    },
    {
     "name": "stderr",
     "output_type": "stream",
     "text": [
      "Creating files:  50%|█████     | 6/12 [00:26<00:29,  4.90s/it]"
     ]
    },
    {
     "name": "stdout",
     "output_type": "stream",
     "text": [
      "Creating file agent_output/llm-interaction-app/src/index.js\n"
     ]
    },
    {
     "name": "stderr",
     "output_type": "stream",
     "text": [
      "Creating files:  58%|█████▊    | 7/12 [00:28<00:19,  3.87s/it]"
     ]
    },
    {
     "name": "stdout",
     "output_type": "stream",
     "text": [
      "Creating file agent_output/llm-interaction-app/src/styles/tailwind.css\n"
     ]
    },
    {
     "name": "stderr",
     "output_type": "stream",
     "text": [
      "Creating files:  67%|██████▋   | 8/12 [00:32<00:15,  3.91s/it]"
     ]
    },
    {
     "name": "stdout",
     "output_type": "stream",
     "text": [
      "Creating file agent_output/llm-interaction-app/public/index.html\n"
     ]
    },
    {
     "name": "stderr",
     "output_type": "stream",
     "text": [
      "Creating files:  75%|███████▌  | 9/12 [00:37<00:13,  4.44s/it]"
     ]
    },
    {
     "name": "stdout",
     "output_type": "stream",
     "text": [
      "Creating file agent_output/llm-interaction-app/src/assets/city_skyline.jpeg\n"
     ]
    },
    {
     "name": "stderr",
     "output_type": "stream",
     "text": [
      "Creating files:  83%|████████▎ | 10/12 [00:41<00:08,  4.19s/it]"
     ]
    },
    {
     "name": "stdout",
     "output_type": "stream",
     "text": [
      "Creating file agent_output/llm-interaction-app/src/utils/api.js\n"
     ]
    },
    {
     "name": "stderr",
     "output_type": "stream",
     "text": [
      "Creating files:  92%|█████████▏| 11/12 [00:47<00:04,  4.74s/it]"
     ]
    },
    {
     "name": "stdout",
     "output_type": "stream",
     "text": [
      "Creating file agent_output/llm-interaction-app/src/App.css\n"
     ]
    },
    {
     "name": "stderr",
     "output_type": "stream",
     "text": [
      "Creating files: 100%|██████████| 12/12 [00:53<00:00,  5.23s/it]"
     ]
    },
    {
     "name": "stdout",
     "output_type": "stream",
     "text": [
      "Creating file agent_output/llm-interaction-app/package.json\n"
     ]
    },
    {
     "name": "stderr",
     "output_type": "stream",
     "text": [
      "Creating files: 100%|██████████| 12/12 [01:00<00:00,  5.01s/it]\n"
     ]
    },
    {
     "name": "stdout",
     "output_type": "stream",
     "text": [
      "INSTALL_DEP Enter\n",
      "npm install completed successfully.\n",
      "BUILD Enter\n",
      "Build completed successfully.\n",
      "{'behaviors': ['responsive',\n",
      "               'mobile-friendly',\n",
      "               'interactive',\n",
      "               'real-time updates',\n",
      "               'accessible'],\n",
      " 'error_message': None,\n",
      " 'files': [File(path='src/components/Header.jsx', type=<FileType.JSX: 'jsx'>, prompt='Create a React component for the header that includes a futuristic image of a city skyline at night with neon lights.', state=<FileState.GENERATED: 'generated'>, content='import React from \\'react\\';\\n\\nconst Header = () => {\\n  return (\\n    <header className=\"relative w-full h-64 bg-black\">\\n      <img \\n        src=\"/assets/city_skyline.jpeg\" \\n        alt=\"Futuristic city skyline at night with neon lights\" \\n        className=\"absolute inset-0 object-cover w-full h-full opacity-70\"\\n      />\\n      <div className=\"absolute inset-0 flex items-center justify-center\">\\n        <h1 className=\"text-4xl font-bold text-white\">Welcome to the LLM Interaction App</h1>\\n      </div>\\n    </header>\\n  );\\n};\\n\\nexport default Header;'),\n",
      "           File(path='src/components/Footer.jsx', type=<FileType.JSX: 'jsx'>, prompt='Create a React component for the footer that contains links to the terms of service, privacy policy, and contact information.', state=<FileState.GENERATED: 'generated'>, content='import React from \\'react\\';\\n\\nconst Footer = () => {\\n  return (\\n    <footer className=\"bg-gray-800 text-white py-4\">\\n      <div className=\"container mx-auto text-center\">\\n        <p className=\"mb-2\">&copy; {new Date().getFullYear()} LLM Interaction App</p>\\n        <div className=\"flex justify-center space-x-4\">\\n          <a href=\"/terms\" className=\"hover:underline\">Terms of Service</a>\\n          <a href=\"/privacy\" className=\"hover:underline\">Privacy Policy</a>\\n          <a href=\"/contact\" className=\"hover:underline\">Contact</a>\\n        </div>\\n      </div>\\n    </footer>\\n  );\\n};\\n\\nexport default Footer;'),\n",
      "           File(path='src/components/ChatInput.jsx', type=<FileType.JSX: 'jsx'>, prompt='Create a React component for the chat input where users can type their prompts.', state=<FileState.GENERATED: 'generated'>, content='import React, { useState } from \\'react\\';\\n\\nconst ChatInput = ({ onSend }) => {\\n  const [input, setInput] = useState(\\'\\');\\n\\n  const handleSubmit = (e) => {\\n    e.preventDefault();\\n    if (input.trim()) {\\n      onSend(input);\\n      setInput(\\'\\');\\n    }\\n  };\\n\\n  return (\\n    <form onSubmit={handleSubmit} className=\"flex items-center p-4 bg-gray-100 rounded-lg shadow-md\">\\n      <input\\n        type=\"text\"\\n        value={input}\\n        onChange={(e) => setInput(e.target.value)}\\n        placeholder=\"Type your prompt...\"\\n        className=\"flex-grow p-2 border border-gray-300 rounded-lg focus:outline-none focus:ring-2 focus:ring-blue-500\"\\n      />\\n      <button type=\"submit\" className=\"ml-2 px-4 py-2 bg-blue-500 text-white rounded-lg hover:bg-blue-600\">Send</button>\\n    </form>\\n  );\\n};\\n\\nexport default ChatInput;'),\n",
      "           File(path='src/components/ChatOutput.jsx', type=<FileType.JSX: 'jsx'>, prompt='Create a React component to display the messages received from the language model.', state=<FileState.GENERATED: 'generated'>, content='import React from \\'react\\';\\n\\nconst ChatOutput = ({ messages }) => {\\n  return (\\n    <div className=\"p-4 bg-white rounded-lg shadow-md max-h-96 overflow-y-auto\">\\n      {messages.length === 0 ? (\\n        <p className=\"text-gray-500\">No messages yet.</p>\\n      ) : (\\n        <ul className=\"space-y-2\">\\n          {messages.map((msg, index) => (\\n            <li key={index} className=\"p-2 bg-gray-100 rounded-lg\">\\n              {msg}\\n            </li>\\n          ))}\\n        </ul>\\n      )}\\n    </div>\\n  );\\n};\\n\\nexport default ChatOutput;'),\n",
      "           File(path='src/App.jsx', type=<FileType.JSX: 'jsx'>, prompt='Create the main App component that integrates Header, Footer, ChatInput, and ChatOutput components.', state=<FileState.GENERATED: 'generated'>, content='import React, { useState } from \\'react\\';\\nimport Header from \\'./components/Header\\';\\nimport Footer from \\'./components/Footer\\';\\nimport ChatInput from \\'./components/ChatInput\\';\\nimport ChatOutput from \\'./components/ChatOutput\\';\\n\\nconst App = () => {\\n  const [messages, setMessages] = useState([]);\\n\\n  const handleSend = (input) => {\\n    // Here you would typically send the input to the language model and get a response.\\n    // For now, we\\'ll just echo the input back as a message.\\n    setMessages((prevMessages) => [...prevMessages, input]);\\n  };\\n\\n  return (\\n    <div className=\"flex flex-col h-screen\">\\n      <Header />\\n      <main className=\"flex-grow p-4\">\\n        <ChatOutput messages={messages} />\\n        <ChatInput onSend={handleSend} />\\n      </main>\\n      <Footer />\\n    </div>\\n  );\\n};\\n\\nexport default App;'),\n",
      "           File(path='src/index.js', type=<FileType.JS: 'js'>, prompt='Create the entry point for the React application that renders the App component.', state=<FileState.GENERATED: 'generated'>, content=\"import React from 'react';\\nimport ReactDOM from 'react-dom';\\nimport App from './App';\\nimport './styles/tailwind.css';\\n\\nReactDOM.render(<App />, document.getElementById('root'));\"),\n",
      "           File(path='src/styles/tailwind.css', type=<FileType.CSS: 'css'>, prompt='Create a Tailwind CSS file to include custom styles for the application.', state=<FileState.GENERATED: 'generated'>, content='@tailwind base;\\n@tailwind components;\\n@tailwind utilities;\\n\\n/* Custom styles */\\n\\nbody {\\n  @apply bg-gray-100 text-gray-800;\\n}\\n\\nh1, h2, h3, h4, h5, h6 {\\n  @apply font-sans;\\n}\\n\\n.header {\\n  @apply bg-black text-white;\\n}\\n\\n.footer {\\n  @apply bg-gray-800 text-white;\\n}\\n\\n.chat-input {\\n  @apply p-4 bg-gray-100 rounded-lg shadow-md;\\n}\\n\\n.chat-output {\\n  @apply p-4 bg-white rounded-lg shadow-md max-h-96 overflow-y-auto;\\n}\\n\\n.button {\\n  @apply px-4 py-2 bg-blue-500 text-white rounded-lg hover:bg-blue-600;\\n}\\n\\n.link {\\n  @apply hover:underline;\\n}\\n\\n@media (max-width: 640px) {\\n  .header, .footer {\\n    @apply text-sm;\\n  }\\n}'),\n",
      "           File(path='public/index.html', type=<FileType.HTML: 'html'>, prompt='Create the main HTML file for the React application.', state=<FileState.GENERATED: 'generated'>, content='<!DOCTYPE html>\\n<html lang=\"en\">\\n<head>\\n    <meta charset=\"UTF-8\">\\n    <meta name=\"viewport\" content=\"width=device-width, initial-scale=1.0\">\\n    <title>LLM Interaction App</title>\\n    <link rel=\"stylesheet\" href=\"/styles/tailwind.css\">\\n</head>\\n<body>\\n    <div id=\"root\"></div>\\n    <script src=\"/src/index.js\"></script>\\n</body>\\n</html>'),\n",
      "           File(path='src/assets/city_skyline.jpeg', type=<FileType.JPEG: 'jpeg'>, prompt='Add a futuristic image of a city skyline at night with neon lights for the header.', state=<FileState.GENERATED: 'generated'>, content='{\"$defs\": {\"Status\": {\"enum\": [\"success\", \"error\"], \"title\": \"Status\", \"type\": \"string\"}}, \"properties\": {\"file_content\": \"{\\\\n  \\\\\"header\\\\\": {\\\\n    \\\\\"image\\\\\": {\\\\n      \\\\\"src\\\\\": \\\\\"/assets/city_skyline.jpeg\\\\\",\\\\n      \\\\\"alt\\\\\": \\\\\"Futuristic city skyline at night with neon lights\\\\\"\\\\n    },\\\\n    \\\\\"title\\\\\": \\\\\"Welcome to the LLM Interaction App\\\\\"\\\\n  }\\\\n}\", \"status\": \"success\", \"error\": null}}'),\n",
      "           File(path='src/utils/api.js', type=<FileType.JS: 'js'>, prompt='Create a utility file for API calls to interact with the language model.', state=<FileState.GENERATED: 'generated'>, content=\"const API_URL = 'https://api.example.com/language-model';\\n\\nexport const sendPrompt = async (prompt) => {\\n  try {\\n    const response = await fetch(API_URL, {\\n      method: 'POST',\\n      headers: {\\n        'Content-Type': 'application/json',\\n      },\\n      body: JSON.stringify({ prompt }),\\n    });\\n\\n    if (!response.ok) {\\n      throw new Error('Network response was not ok');\\n    }\\n\\n    const data = await response.json();\\n    return data;\\n  } catch (error) {\\n    console.error('Error:', error);\\n    throw error;\\n  }\\n};\\n\\nexport const getResponse = async (prompt) => {\\n  const result = await sendPrompt(prompt);\\n  return result.response;\\n};\"),\n",
      "           File(path='src/App.css', type=<FileType.CSS: 'css'>, prompt='Create a CSS file for additional styles for the App component.', state=<FileState.GENERATED: 'generated'>, content='/* Additional styles for the App component */\\n\\n.app-container {\\n  @apply flex flex-col h-screen;\\n}\\n\\n.main-content {\\n  @apply flex-grow p-4;\\n}\\n\\n.chat-output {\\n  @apply mb-4;\\n}\\n\\n.chat-input {\\n  @apply mt-4;\\n}\\n\\n@media (max-width: 640px) {\\n  .app-container {\\n    @apply p-2;\\n  }\\n}'),\n",
      "           File(path='package.json', type=<FileType.JSON: 'json'>, prompt='Generate a package.json file with dependencies for React, Tailwind CSS, and any other necessary libraries.', state=<FileState.GENERATED: 'generated'>, content='{\\n  \"name\": \"llm-interaction-app\",\\n  \"version\": \"1.0.0\",\\n  \"private\": true,\\n  \"scripts\": {\\n    \"start\": \"react-scripts start\",\\n    \"build\": \"react-scripts build\",\\n    \"test\": \"react-scripts test\",\\n    \"eject\": \"react-scripts eject\"\\n  },\\n  \"dependencies\": {\\n    \"react\": \"^18.0.0\",\\n    \"react-dom\": \"^18.0.0\",\\n    \"react-scripts\": \"^5.0.0\",\\n    \"tailwindcss\": \"^3.0.0\",\\n    \"postcss\": \"^8.0.0\",\\n    \"autoprefixer\": \"^10.0.0\"\\n  },\\n  \"devDependencies\": {\\n    \"@tailwindcss/forms\": \"^0.3.0\"\\n  },\\n  \"browserslist\": {\\n    \"production\": [\\n      \">0.2%\",\\n      \"not dead\",\\n      \"not op_mini all\"\\n    ],\\n    \"development\": [\\n      \"last 1 chrome version\",\\n      \"last 1 firefox version\",\\n      \"last 1 safari version\"\\n    ]\\n  }\\n}')],\n",
      " 'input': 'Design a web application that allows users to interact with an llm '\n",
      "          'by inputting text prompts and receiving messages.\\n'\n",
      "          '        Use a color palette based on Bright Blue, Dark Teal, Aqua '\n",
      "          'Orange.\\n'\n",
      "          '        The application sohuld be mobile-friendly and responsive.\\n'\n",
      "          '        The header will display a futuristic image of a city '\n",
      "          'skyline at night with neon lights.\\n'\n",
      "          '        The footer will contain links to the terms of service, '\n",
      "          'privacy policy, and contact information.\\n'\n",
      "          '        ',\n",
      " 'output_folder': 'agent_output',\n",
      " 'project_description': 'A web application that allows users to interact with '\n",
      "                        'a language model by inputting text prompts and '\n",
      "                        'receiving messages.',\n",
      " 'project_name': 'LLM Interaction App',\n",
      " 'repo_name': 'llm-interaction-app',\n",
      " 'repo_state': <FileState.GENERATED: 'generated'>,\n",
      " 'status': <Status.SUCCESS: 'success'>,\n",
      " 'style': Style(theme='light', font='sans-serif', colorPalette=['#00BFFF', '#008080', '#FF7F50'])}\n"
     ]
    }
   ],
   "source": [
    "\n",
    "\n",
    "from promptstrap.state import PromptstrapState\n",
    "from promptstrap.graph import NewGraph\n",
    "from pprint import pprint\n",
    "\n",
    "\n",
    "input_dict = {\n",
    "    \"input\": (\n",
    "        \"\"\"Design a web application that allows users to interact with an llm by inputting text prompts and receiving messages.\n",
    "        Use a color palette based on Bright Blue, Dark Teal, Aqua Orange.\n",
    "        The application sohuld be mobile-friendly and responsive.\n",
    "        The header will display a futuristic image of a city skyline at night with neon lights.\n",
    "        The footer will contain links to the terms of service, privacy policy, and contact information.\n",
    "        \"\"\"\n",
    "    )\n",
    "}\n",
    "\n",
    "\n",
    "graph = NewGraph()\n",
    "result = graph.invoke(input_dict)\n",
    "\n",
    "pprint(result)"
   ]
  }
 ],
 "metadata": {
  "kernelspec": {
   "display_name": "promptstrap-_MO4BsZ7-py3.12",
   "language": "python",
   "name": "python3"
  },
  "language_info": {
   "codemirror_mode": {
    "name": "ipython",
    "version": 3
   },
   "file_extension": ".py",
   "mimetype": "text/x-python",
   "name": "python",
   "nbconvert_exporter": "python",
   "pygments_lexer": "ipython3",
   "version": "3.12.7"
  }
 },
 "nbformat": 4,
 "nbformat_minor": 5
}
